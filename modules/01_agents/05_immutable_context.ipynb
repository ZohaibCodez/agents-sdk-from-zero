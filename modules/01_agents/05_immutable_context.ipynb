{
  "nbformat": 4,
  "nbformat_minor": 0,
  "metadata": {
    "colab": {
      "provenance": []
    },
    "kernelspec": {
      "name": "python3",
      "display_name": "Python 3"
    },
    "language_info": {
      "name": "python"
    }
  },
  "cells": [
    {
      "cell_type": "code",
      "execution_count": 57,
      "metadata": {
        "colab": {
          "base_uri": "https://localhost:8080/"
        },
        "id": "bDS3hfxn1mwD",
        "outputId": "9171d80d-b422-4bae-b840-f72fb1fd476f"
      },
      "outputs": [
        {
          "output_type": "stream",
          "name": "stdout",
          "text": [
            "\u001b[2K   \u001b[90m━━━━━━━━━━━━━━━━━━━━━━━━━━━━━━━━━━━━━━━━\u001b[0m \u001b[32m8.4/8.4 MB\u001b[0m \u001b[31m61.5 MB/s\u001b[0m eta \u001b[36m0:00:00\u001b[0m\n",
            "\u001b[?25h"
          ]
        }
      ],
      "source": [
        "!pip install -Uq openai-agents \"openai-agents[litellm]\""
      ]
    },
    {
      "cell_type": "code",
      "source": [
        "import nest_asyncio\n",
        "nest_asyncio.apply()"
      ],
      "metadata": {
        "id": "cqHI4u-r1xE5"
      },
      "execution_count": 58,
      "outputs": []
    },
    {
      "cell_type": "code",
      "source": [
        "from agents import (\n",
        "    Agent,\n",
        "    Runner,\n",
        "    AsyncOpenAI,\n",
        "    OpenAIChatCompletionsModel,\n",
        "    set_tracing_disabled,\n",
        "    RunResult,\n",
        "    RunContextWrapper,\n",
        "    function_tool\n",
        ")\n",
        "from agents.extensions.models.litellm_model import LitellmModel\n",
        "import asyncio\n",
        "from google.colab import userdata\n",
        "\n",
        "MODEL = 'gemini/gemini-2.0-flash'\n",
        "gemini_api_key = userdata.get(\"GEMINI_API_KEY\")\n",
        "set_tracing_disabled(True)\n",
        "\n",
        "if not gemini_api_key:\n",
        "    print(\"GEMINI_API_KEY not found.\")"
      ],
      "metadata": {
        "id": "pKIlLdmH2HnW"
      },
      "execution_count": 59,
      "outputs": []
    },
    {
      "cell_type": "markdown",
      "source": [
        "## Simple Mutable Context Object"
      ],
      "metadata": {
        "id": "c7uLi1Wy2zrd"
      }
    },
    {
      "cell_type": "code",
      "source": [
        "class MyContext:\n",
        "  def __init__(self):\n",
        "    self.user_preferences:dict[str,str]={}\n",
        "    self.call_count:int = 0\n",
        "\n",
        "  def add_user_preferences(self,preference:str,value:str)->None:\n",
        "    self.user_preferences[preference] = value\n",
        "    self.increment_call_count()\n",
        "\n",
        "  def increment_call_count(self):\n",
        "    self.call_count+=1"
      ],
      "metadata": {
        "id": "ohi5X6cc3uqN"
      },
      "execution_count": 60,
      "outputs": []
    },
    {
      "cell_type": "code",
      "source": [
        "# making some function tools\n",
        "\n",
        "@function_tool\n",
        "def save_user_preference(ctx:RunContextWrapper[MyContext],preference:str,value:str)->str:\n",
        "  print(f\"Saving User Preference : {preference} = {value}\")\n",
        "  ctx.context.add_user_preferences(preference,value)\n",
        "  return f\"Saved {preference} : {value}\"\n",
        "\n",
        "@function_tool\n",
        "def get_user_preferences(ctx:RunContextWrapper[MyContext])->dict[str,str]:\n",
        "  return ctx.context.user_preferences\n",
        "\n",
        "@function_tool\n",
        "def clear_user_preferences(ctx:RunContextWrapper[MyContext])->dict[str,str]:\n",
        "  print(f\"Clearing User Preferences : {ctx.context.user_preferences}\")\n",
        "  ctx.context.user_preferences.clear()\n",
        "  print(f\"User preferences after clearing: {ctx.context.user_preferences}\")\n",
        "  return \"All user preferences cleared\""
      ],
      "metadata": {
        "id": "E0DOLBf-5gRR"
      },
      "execution_count": 61,
      "outputs": []
    },
    {
      "cell_type": "code",
      "source": [
        "agent:Agent = Agent(\n",
        "    name = \"Preference Agent\",\n",
        "    instructions = \"Help user to manage their preferences. Use relevant tools for preference queries of users\",\n",
        "    tools=[save_user_preference, get_user_preferences, clear_user_preferences],\n",
        "    model=LitellmModel(model=MODEL, api_key=gemini_api_key),\n",
        ")"
      ],
      "metadata": {
        "id": "UqtHzvD0_RYD"
      },
      "execution_count": 62,
      "outputs": []
    },
    {
      "cell_type": "code",
      "source": [
        "async def run_preference_agent_tests():\n",
        "    print(\"\\n=== Running Manual Tests for PreferenceAgent ===\")\n",
        "\n",
        "    context = MyContext()\n",
        "\n",
        "    # Test 1: Save a preference\n",
        "    print(\"\\n[TEST 1] Saving favorite language...\")\n",
        "    result = await Runner.run(agent, \"Save my favorite language as Python\", context=context)\n",
        "    print(\"Result:\", result.final_output)\n",
        "    print(\"Context State:\", context.user_preferences)\n",
        "\n",
        "    # Test 2: Save another preference\n",
        "    print(\"\\n[TEST 2] Saving favorite food...\")\n",
        "    result = await Runner.run(agent, \"Save my favorite food as Biryani\", context=context)\n",
        "    print(\"Result:\", result.final_output)\n",
        "    print(\"Context State:\", context.user_preferences)\n",
        "\n",
        "    # Test 3: Retrieve preferences\n",
        "    print(\"\\n[TEST 3] Getting all preferences...\")\n",
        "    result = await Runner.run(agent, \"What are all my preferences?\", context=context)\n",
        "    print(\"Result:\", result.final_output)\n",
        "\n",
        "    # Test 4: Clear preferences\n",
        "    print(\"\\n[TEST 4] Clearing preferences...\")\n",
        "    result = await Runner.run(agent, \"Clear all my preferences\", context=context)\n",
        "    print(\"Result:\", result.final_output)\n",
        "    print(\"Context State:\", context.user_preferences)\n",
        "\n",
        "    # Test 5: Get preferences after clearing\n",
        "    print(\"\\n[TEST 5] Getting preferences after clearing...\")\n",
        "    result = await Runner.run(agent, \"What are my preferences now?\", context=context)\n",
        "    print(\"Result:\", result.final_output)\n",
        "    print(\"Final Context State:\", context.user_preferences)\n",
        "\n",
        "    # Optional: Show call count\n",
        "    print(\"\\n[SUMMARY] Tool call count:\", context.call_count)\n",
        "\n",
        "async def main():\n",
        "    await run_preference_agent_tests()\n",
        "\n",
        "asyncio.run(main())"
      ],
      "metadata": {
        "colab": {
          "base_uri": "https://localhost:8080/"
        },
        "id": "sC7uFr4hAqYq",
        "outputId": "03172f5c-c56e-4239-e8c2-dc90c01bade4"
      },
      "execution_count": 63,
      "outputs": [
        {
          "output_type": "stream",
          "name": "stdout",
          "text": [
            "\n",
            "=== Running Manual Tests for PreferenceAgent ===\n",
            "\n",
            "[TEST 1] Saving favorite language...\n",
            "Saving User Preference : favorite_language = Python\n",
            "Result: OK. I've saved your favorite language as Python.\n",
            "\n",
            "Context State: {'favorite_language': 'Python'}\n",
            "\n",
            "[TEST 2] Saving favorite food...\n",
            "Saving User Preference : favorite food = Biryani\n",
            "Result: OK. I've saved your favorite food as Biryani. Anything else?\n",
            "\n",
            "Context State: {'favorite_language': 'Python', 'favorite food': 'Biryani'}\n",
            "\n",
            "[TEST 3] Getting all preferences...\n",
            "Result: OK. your preferences are: favorite language is Python, and favorite food is Biryani.\n",
            "\n",
            "\n",
            "[TEST 4] Clearing preferences...\n",
            "Clearing User Preferences : {'favorite_language': 'Python', 'favorite food': 'Biryani'}\n",
            "User preferences after clearing: {}\n",
            "Result: OK. I've cleared all your preferences.\n",
            "\n",
            "Context State: {}\n",
            "\n",
            "[TEST 5] Getting preferences after clearing...\n",
            "Result: You don't have any preferences saved.\n",
            "\n",
            "Final Context State: {}\n",
            "\n",
            "[SUMMARY] Tool call count: 2\n"
          ]
        }
      ]
    },
    {
      "cell_type": "markdown",
      "source": [
        "## Using Context With the Runner"
      ],
      "metadata": {
        "id": "1v6R8MyWDJ6M"
      }
    },
    {
      "cell_type": "code",
      "source": [
        "from datetime import datetime\n",
        "\n",
        "class SmartLifeContext:\n",
        "  def __init__(self):\n",
        "    self.messages_count: int = 0\n",
        "    #Tracking Mood\n",
        "    self.mood_history:list[str]=[]\n",
        "    self.current_mood:str = \"neutral\"\n",
        "\n",
        "    #Tracking Study Topics\n",
        "    self.study_topics:dict[str,str]={}\n",
        "\n",
        "    #Managing Tasks\n",
        "    self.task_queue:list[str]=[]\n",
        "    self.completed_tasks:list[str]=[]\n",
        "\n",
        "    #Timestamp of last update\n",
        "    self.last_updated:datetime = datetime.now()\n",
        "\n",
        "  def add_message(self):\n",
        "    self.messages_count += 1\n",
        "\n",
        "  def log_study_topic(self, topic: str):\n",
        "    self.study_topics[topic] = self.study_topics.get(topic, 0) + 1\n",
        "    self.last_updated = datetime.now()\n",
        "\n",
        "  def update_mood(self, mood: str):\n",
        "    self.mood_history.append(mood)\n",
        "    self.current_mood = mood\n",
        "    self.last_updated = datetime.now()\n",
        "\n",
        "  def add_task(self, task: str):\n",
        "    self.task_queue.append(task)\n",
        "    self.last_updated = datetime.now()\n",
        "\n",
        "  def complete_task(self,task:str) -> bool:\n",
        "    if task in self.task_queue:\n",
        "      self.task_queue.remove(task)\n",
        "      self.completed_tasks.append(task)\n",
        "      self.last_updated = datetime.now()\n",
        "      return True\n",
        "    return False\n",
        "\n",
        "  def session_info(self) -> dict:\n",
        "    return {\n",
        "        \"messages_count\": self.messages_count,\n",
        "        \"mood_history\": self.mood_history,\n",
        "        \"current_mood\": self.current_mood,\n",
        "        \"study_topics\": self.study_topics,\n",
        "        \"task_queue\": self.task_queue,\n",
        "        \"completed_tasks\": self.completed_tasks,\n",
        "        \"last_updated\": self.last_updated.isoformat()\n",
        "    }"
      ],
      "metadata": {
        "id": "0XX8KzaSDOz-"
      },
      "execution_count": 64,
      "outputs": []
    },
    {
      "cell_type": "code",
      "source": [
        "@function_tool\n",
        "def set_mood(ctx:RunContextWrapper[SmartLifeContext],mood:str)->str:\n",
        "  \"\"\"Set the user's current mood\"\"\"\n",
        "  ctx.context.update_mood(mood)\n",
        "  return f\"Set mood to {mood}\"\n",
        "\n",
        "@function_tool\n",
        "def log_study_topic(ctx:RunContextWrapper[SmartLifeContext],topic:str)->str:\n",
        "  \"\"\"Track a discussion topic\"\"\"\n",
        "  ctx.context.log_study_topic(topic)\n",
        "  return f\"Logged study topic: {topic}\"\n",
        "\n",
        "@function_tool\n",
        "def add_task(ctx:RunContextWrapper[SmartLifeContext],task:str)->str:\n",
        "  \"\"\"Add a task to the task queue\"\"\"\n",
        "  ctx.context.add_task(task)\n",
        "\n",
        "@function_tool\n",
        "def complete_task(ctx:RunContextWrapper[SmartLifeContext],task:str)->str:\n",
        "  \"\"\"Complete a task from the task queue\"\"\"\n",
        "  success = ctx.context.complete_task(task)\n",
        "  return f\"Completed task: {task}\" if success else f\"Task '{task}' not found in queue.\"\n",
        "\n",
        "@function_tool\n",
        "def get_session_info(ctx:RunContextWrapper[SmartLifeContext])->dict:\n",
        "  \"\"\"Get information about the current session\"\"\"\n",
        "  return ctx.context.session_info()"
      ],
      "metadata": {
        "id": "EnTB5u6KedKw"
      },
      "execution_count": 65,
      "outputs": []
    },
    {
      "cell_type": "code",
      "source": [
        "session_agent:Agent = Agent(\n",
        "    name = \"Session Agent\",\n",
        "    instructions = \"\"\" You are SmartLifeAgent — a personal assistant that helps users track their mood, study activities, and tasks.Be proactive, context-aware, and use tools to record progress, track moods, manage tasks, and summarize user state.\n",
        "    \"\"\",\n",
        "    tools = [set_mood,log_study_topic,add_task,complete_task,get_session_info],\n",
        "    model=LitellmModel(model=MODEL, api_key=gemini_api_key)\n",
        ")"
      ],
      "metadata": {
        "id": "V0nmABdZf4Xd"
      },
      "execution_count": 67,
      "outputs": []
    },
    {
      "cell_type": "code",
      "source": [
        "async def main():\n",
        "  ctx = SmartLifeContext()\n",
        "\n",
        "  interactions = [\n",
        "      \"I'm feeling very productive today\",\n",
        "      \"Let's study statistics\",\n",
        "      \"Remind me to revise hypothesis testing\",\n",
        "      \"I finished hypothesis testing\",\n",
        "      \"Give me a summary of my progress\",\n",
        "  ]\n",
        "\n",
        "  for i,message in enumerate(interactions):\n",
        "    ctx.add_message()\n",
        "\n",
        "    print(f\"\\n--- Interaction {i+1} ---\")\n",
        "    print(f\"Messages count: {ctx.messages_count}\")\n",
        "    print(f\"User Messages : {message}\")\n",
        "\n",
        "    result = await Runner.run(session_agent, message, context=ctx)\n",
        "\n",
        "    print(f\"Agent response: {result.final_output}\")\n",
        "\n",
        "  print(\"\\n--- Agent Summary from Runner ---\")\n",
        "  result = await Runner.run(session_agent, \"Can you give me a summary?\", context=ctx)\n",
        "  print(result.final_output)\n",
        "\n",
        "asyncio.run(main())"
      ],
      "metadata": {
        "colab": {
          "base_uri": "https://localhost:8080/"
        },
        "id": "qjRJ_OAIgTFj",
        "outputId": "d2ab1c49-919d-4ddf-ee0c-83217e59f42b"
      },
      "execution_count": 69,
      "outputs": [
        {
          "output_type": "stream",
          "name": "stdout",
          "text": [
            "\n",
            "--- Interaction 1 ---\n",
            "Messages count: 1\n",
            "User Messages : I'm feeling very productive today\n",
            "Agent response: Great! I've set your mood to productive. Is there anything I can help you with to keep the momentum going? Perhaps you'd like to add a task, log a study topic, or check your current session info?\n",
            "\n",
            "\n",
            "--- Interaction 2 ---\n",
            "Messages count: 2\n",
            "User Messages : Let's study statistics\n",
            "Agent response: OK. I have logged that we are studying statistics.\n",
            "\n",
            "\n",
            "--- Interaction 3 ---\n",
            "Messages count: 3\n",
            "User Messages : Remind me to revise hypothesis testing\n",
            "Agent response: OK. I've added \"Revise hypothesis testing\" to your task list.\n",
            "\n",
            "\n",
            "--- Interaction 4 ---\n",
            "Messages count: 4\n",
            "User Messages : I finished hypothesis testing\n",
            "Agent response: Alright, I've logged that you finished studying hypothesis testing. Is there anything else I can help you with? For example, would you like me to add a new task, update your mood, or get a summary of your session?\n",
            "\n",
            "\n",
            "--- Interaction 5 ---\n",
            "Messages count: 5\n",
            "User Messages : Give me a summary of my progress\n",
            "Agent response: Okay, here's a summary of your progress:\n",
            "\n",
            "*   **Mood:** You're currently feeling productive.\n",
            "*   **Study Topics:** We've discussed 'statistics' and 'hypothesis testing'.\n",
            "*   **Task Queue:** You have one task in your queue: 'Revise hypothesis testing'.\n",
            "*   **Completed Tasks:** You haven't completed any tasks yet.\n",
            "\n",
            "\n",
            "--- Agent Summary from Runner ---\n",
            "Okay, here's a summary of your current session:\n",
            "\n",
            "*   **Mood:** You're currently feeling productive.\n",
            "*   **Study Topics:** We've discussed 'statistics' and 'hypothesis testing'.\n",
            "*   **Task Queue:** You have one task in your queue: 'Revise hypothesis testing'.\n",
            "*   **Completed Tasks:** You haven't completed any tasks yet in this session.\n",
            "*   **Messages:** We've exchanged 5 messages so far.\n"
          ]
        }
      ]
    },
    {
      "cell_type": "markdown",
      "source": [
        "## Advanced Context Usage With Proper Context Access"
      ],
      "metadata": {
        "id": "0gz68nxiqe2e"
      }
    },
    {
      "cell_type": "code",
      "source": [
        "# making advanced context\n",
        "class AdvancedContext:\n",
        "  def __init__(self):\n",
        "    self.user_profiles:dict[str,str]={}\n",
        "    self.conversation_memory:list[str]=[]\n",
        "    self.task_queue:list[str]=[]\n",
        "    self.completed_tasks:list[str]=[]\n",
        "\n",
        "  def add_memory(self,memory:str):\n",
        "    self.conversation_memory.append(memory)\n",
        "\n",
        "    # stores only previous 10 memories\n",
        "    if len(self.conversation_memory) > 10:\n",
        "      self.conversation_memory.pop(0)\n",
        "\n",
        "  def add_task(self,task:str):\n",
        "    self.task_queue.append(task)\n",
        "\n",
        "  def complete_task(self,task:str) -> bool:\n",
        "    if task in self.task_queue:\n",
        "      self.task_queue.remove(task)\n",
        "      self.completed_tasks.append(task)\n",
        "      return True\n",
        "    return False"
      ],
      "metadata": {
        "id": "Bso6I6R9t6KL"
      },
      "execution_count": 70,
      "outputs": []
    },
    {
      "cell_type": "code",
      "source": [
        "@function_tool\n",
        "def remember_fact(ctx:RunContextWrapper[AdvancedContext],memory:str):\n",
        "  \"\"\"Remember an important fact about the conversation\"\"\"\n",
        "  ctx.context.add_memory(memory)\n",
        "  return f\"Remembered: {memory}\"\n",
        "\n",
        "@function_tool\n",
        "def add_task(ctx:RunContextWrapper[AdvancedContext],task:str):\n",
        "  \"\"\"Add a task to the task queue\"\"\"\n",
        "  ctx.context.add_task(task)\n",
        "  return f\"Added task: {task}\"\n",
        "\n",
        "@function_tool\n",
        "def complete_task(ctx:RunContextWrapper[AdvancedContext],task:str):\n",
        "  \"\"\"Complete a task from the task queue\"\"\"\n",
        "  success = ctx.context.complete_task(task)\n",
        "  return f\"Completed task: {task}\" if success else f\"Task '{task}' not found in queue.\"\n",
        "\n",
        "@function_tool\n",
        "def get_session_info(ctx:RunContextWrapper[AdvancedContext]):\n",
        "  \"\"\"Get information about the current session\"\"\"\n",
        "  return {\n",
        "      \"conversation_memory\": ctx.context.conversation_memory,\n",
        "      \"task_queue\": ctx.context.task_queue,\n",
        "      \"completed_tasks\": ctx.context.completed_tasks,\n",
        "      \"profile\": ctx.context.user_profiles\n",
        "  }\n",
        "\n",
        "@function_tool\n",
        "def update_profile(ctx:RunContextWrapper[AdvancedContext],key:str,value:str):\n",
        "  \"\"\"Update the user profile with a key-value pair\"\"\"\n",
        "  ctx.context.user_profiles[key] = value\n",
        "  return f\"Updated profile with {key}: {value}\""
      ],
      "metadata": {
        "id": "DcQZuPsBvMMf"
      },
      "execution_count": 71,
      "outputs": []
    },
    {
      "cell_type": "code",
      "source": [
        "advanced_agent:Agent = Agent(\n",
        "    name = \"Advanced Agent\",\n",
        "    instructions = \"\"\" You are an advanced assistant with memory and task management capabilities.\n",
        "    Use your tools to:\n",
        "    - Remember important facts about our conversation\n",
        "    - Help users manage their tasks\n",
        "    - Keep track of user profile information\n",
        "    - Provide status updates when requested\n",
        "\n",
        "    Be proactive in using these capabilities to provide better assistance.\n",
        "    \"\"\",\n",
        "    tools = [remember_fact,add_task,complete_task,get_session_info,update_profile],\n",
        "    model = LitellmModel(model=MODEL, api_key=gemini_api_key),\n",
        ")"
      ],
      "metadata": {
        "id": "rHkiCCHNwZYz"
      },
      "execution_count": 73,
      "outputs": []
    },
    {
      "cell_type": "code",
      "source": [
        "async def test_advanced_agent():\n",
        "    print(\"\\n=== Testing Advanced Agent with Context ===\")\n",
        "\n",
        "    # Create new context\n",
        "    context = AdvancedContext()\n",
        "\n",
        "    # Simulated conversation messages\n",
        "    interactions = [\n",
        "        \"Hi, I'm Zohaib and I'm a Data Science student at PUCIT\",\n",
        "        \"I need to complete my AI project by Saturday\",\n",
        "        \"Also remind me to email my professor tomorrow\",\n",
        "        \"I just finished writing the literature review section\",\n",
        "        \"Update my profile: favorite_topic = Agents SDK\",\n",
        "        \"What's my current status?\"\n",
        "    ]\n",
        "\n",
        "    # Run agent over each message\n",
        "    for i, message in enumerate(interactions):\n",
        "        print(f\"\\n--- Interaction {i + 1} ---\")\n",
        "        print(f\"User: {message}\")\n",
        "\n",
        "        result = await Runner.run(advanced_agent, message, context=context)\n",
        "\n",
        "        print(f\"Agent: {result.final_output}\")\n",
        "\n",
        "    # Final context view\n",
        "    print(\"\\n=== Final Context State ===\")\n",
        "    print(f\"Memories: {context.conversation_memory}\")\n",
        "    print(f\"Pending Tasks: {context.task_queue}\")\n",
        "    print(f\"Completed Tasks: {context.completed_tasks}\")\n",
        "    print(f\"User Profile: {context.user_profiles}\")\n",
        "\n",
        "asyncio.run(test_advanced_agent())"
      ],
      "metadata": {
        "colab": {
          "base_uri": "https://localhost:8080/"
        },
        "id": "D_0xj7CRwxaJ",
        "outputId": "8abf57ff-7b71-4c32-8697-7ad390d044ed"
      },
      "execution_count": 78,
      "outputs": [
        {
          "output_type": "stream",
          "name": "stdout",
          "text": [
            "\n",
            "=== Testing Advanced Agent with Context ===\n",
            "\n",
            "--- Interaction 1 ---\n",
            "User: Hi, I'm Zohaib and I'm a Data Science student at PUCIT\n",
            "Agent: Okay, I've updated your profile with the following information:\n",
            "\n",
            "*   **Name:** Zohaib\n",
            "*   **Occupation:** Data Science student\n",
            "*   **Organization:** PUCIT\n",
            "\n",
            "Is that correct?\n",
            "\n",
            "\n",
            "--- Interaction 2 ---\n",
            "User: I need to complete my AI project by Saturday\n",
            "Agent: OK. I've added 'Complete AI project by Saturday' to your task list.\n",
            "\n",
            "\n",
            "--- Interaction 3 ---\n",
            "User: Also remind me to email my professor tomorrow\n",
            "Agent: OK. I've added a task to remind you to email your professor tomorrow.\n",
            "\n",
            "\n",
            "--- Interaction 4 ---\n",
            "User: I just finished writing the literature review section\n",
            "Agent: Great job on finishing the literature review section! I'll mark that as complete. Is there anything else I can help you with right now?\n",
            "\n",
            "\n",
            "--- Interaction 5 ---\n",
            "User: Update my profile: favorite_topic = Agents SDK\n",
            "Agent: OK. I've updated your profile. Your favorite topic is now Agents SDK.\n",
            "\n",
            "\n",
            "--- Interaction 6 ---\n",
            "User: What's my current status?\n",
            "Agent: Okay, Zohaib. Here's your current status:\n",
            "\n",
            "*   **Memory:** No specific facts have been stored in memory yet.\n",
            "*   **Task Queue:** You have two tasks: \"Complete AI project by Saturday\" and \"Email my professor tomorrow\".\n",
            "*   **Completed Tasks:** You haven't completed any tasks yet.\n",
            "*   **Profile:** Your name is Zohaib, you are a Data Science student at PUCIT, and your favorite topic is Agents SDK.\n",
            "\n",
            "\n",
            "=== Final Context State ===\n",
            "Memories: []\n",
            "Pending Tasks: ['Complete AI project by Saturday', 'Email my professor tomorrow']\n",
            "Completed Tasks: []\n",
            "User Profile: {'name': 'Zohaib', 'occupation': 'Data Science student', 'organization': 'PUCIT', 'favorite_topic': 'Agents SDK'}\n"
          ]
        }
      ]
    }
  ]
}