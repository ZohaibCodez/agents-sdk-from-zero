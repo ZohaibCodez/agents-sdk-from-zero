{
  "cells": [
    {
      "cell_type": "markdown",
      "metadata": {
        "id": "oy3z1mR-NxAM"
      },
      "source": [
        "# Agent Instructions"
      ]
    },
    {
      "cell_type": "code",
      "execution_count": null,
      "metadata": {
        "colab": {
          "base_uri": "https://localhost:8080/"
        },
        "id": "plQd1RSPu2fj",
        "outputId": "459d1132-f239-423e-8452-6823a9dee318"
      },
      "outputs": [
        {
          "name": "stdout",
          "output_type": "stream",
          "text": [
            "\u001b[?25l   \u001b[90m━━━━━━━━━━━━━━━━━━━━━━━━━━━━━━━━━━━━━━━━\u001b[0m \u001b[32m0.0/126.7 kB\u001b[0m \u001b[31m?\u001b[0m eta \u001b[36m-:--:--\u001b[0m\r\u001b[2K   \u001b[90m━━━━━━━━━━━━━━━━━━━━━━━━━━━━━━━━━━━━━━━━\u001b[0m \u001b[32m126.7/126.7 kB\u001b[0m \u001b[31m8.2 MB/s\u001b[0m eta \u001b[36m0:00:00\u001b[0m\n",
            "\u001b[?25h\u001b[?25l   \u001b[90m━━━━━━━━━━━━━━━━━━━━━━━━━━━━━━━━━━━━━━━━\u001b[0m \u001b[32m0.0/129.3 kB\u001b[0m \u001b[31m?\u001b[0m eta \u001b[36m-:--:--\u001b[0m\r\u001b[2K   \u001b[90m━━━━━━━━━━━━━━━━━━━━━━━━━━━━━━━━━━━━━━━━\u001b[0m \u001b[32m129.3/129.3 kB\u001b[0m \u001b[31m7.9 MB/s\u001b[0m eta \u001b[36m0:00:00\u001b[0m\n",
            "\u001b[?25h\u001b[?25l   \u001b[90m━━━━━━━━━━━━━━━━━━━━━━━━━━━━━━━━━━━━━━━━\u001b[0m \u001b[32m0.0/130.2 kB\u001b[0m \u001b[31m?\u001b[0m eta \u001b[36m-:--:--\u001b[0m\r\u001b[2K   \u001b[90m━━━━━━━━━━━━━━━━━━━━━━━━━━━━━━━━━━━━━━━━\u001b[0m \u001b[32m130.2/130.2 kB\u001b[0m \u001b[31m8.6 MB/s\u001b[0m eta \u001b[36m0:00:00\u001b[0m\n",
            "\u001b[?25h\u001b[?25l   \u001b[90m━━━━━━━━━━━━━━━━━━━━━━━━━━━━━━━━━━━━━━━━\u001b[0m \u001b[32m0.0/45.2 kB\u001b[0m \u001b[31m?\u001b[0m eta \u001b[36m-:--:--\u001b[0m\r\u001b[2K   \u001b[90m━━━━━━━━━━━━━━━━━━━━━━━━━━━━━━━━━━━━━━━━\u001b[0m \u001b[32m45.2/45.2 kB\u001b[0m \u001b[31m2.3 MB/s\u001b[0m eta \u001b[36m0:00:00\u001b[0m\n",
            "\u001b[?25h"
          ]
        }
      ],
      "source": [
        "!pip install -Uq openai-agents"
      ]
    },
    {
      "cell_type": "code",
      "execution_count": null,
      "metadata": {
        "id": "0b6Wh-Pvu86M"
      },
      "outputs": [],
      "source": [
        "import nest_asyncio\n",
        "nest_asyncio.apply()"
      ]
    },
    {
      "cell_type": "code",
      "execution_count": null,
      "metadata": {
        "id": "NZofeVThvDV-"
      },
      "outputs": [],
      "source": [
        "from agents import Agent,Runner,AsyncOpenAI,OpenAIChatCompletionsModel,set_tracing_disabled,RunResult,RunContextWrapper\n",
        "from google.colab import userdata\n",
        "\n",
        "set_tracing_disabled(True)\n",
        "gemini_api_key = userdata.get('GEMINI_API_KEY')\n",
        "\n",
        "external_client = AsyncOpenAI(\n",
        "    api_key = gemini_api_key,\n",
        "    base_url = \"https://generativelanguage.googleapis.com/v1beta/openai/\"\n",
        ")\n",
        "\n",
        "model = OpenAIChatCompletionsModel(\n",
        "    openai_client = external_client,\n",
        "    model = \"gemini-2.0-flash\"\n",
        ")"
      ]
    },
    {
      "cell_type": "code",
      "execution_count": null,
      "metadata": {
        "id": "aBtYNPEey6Fx"
      },
      "outputs": [],
      "source": [
        "import asyncio"
      ]
    },
    {
      "cell_type": "markdown",
      "metadata": {
        "id": "jmr0P6_Ow8NN"
      },
      "source": [
        "## Basic String Instructions"
      ]
    },
    {
      "cell_type": "code",
      "execution_count": null,
      "metadata": {
        "id": "lwupRG_dxArQ"
      },
      "outputs": [],
      "source": [
        "agent_basic:Agent = Agent(\n",
        "    name = \"Basic Agent\",\n",
        "    instructions = \"You are a helpful assistant that provides short and concise answers\",\n",
        "    model = model,\n",
        ")"
      ]
    },
    {
      "cell_type": "code",
      "execution_count": null,
      "metadata": {
        "colab": {
          "base_uri": "https://localhost:8080/"
        },
        "id": "ZcFhJDGNxVeA",
        "outputId": "738189e0-f669-4497-f0df-9952fe5f9efe"
      },
      "outputs": [
        {
          "name": "stdout",
          "output_type": "stream",
          "text": [
            "The meaning of life is subjective and varies for each individual.\n",
            "\n"
          ]
        }
      ],
      "source": [
        "async def main():\n",
        "  result:RunResult = await Runner.run(agent_basic, \"What is the meaning of life?\")\n",
        "  print(result.final_output)\n",
        "\n",
        "asyncio.run(main())"
      ]
    },
    {
      "cell_type": "markdown",
      "metadata": {
        "id": "ztJeA3fnyzrs"
      },
      "source": [
        "## Detailed String Agent"
      ]
    },
    {
      "cell_type": "code",
      "execution_count": null,
      "metadata": {
        "id": "pIrXeNegz0Jl"
      },
      "outputs": [],
      "source": [
        "agent_detailed:Agent = Agent(\n",
        "    name = \"Detailed Agent\",\n",
        "    instructions=\"\"\"You are an expert Python developer.\n",
        "    - Always provide working code examples\n",
        "    - Explain your reasoning step by step\n",
        "    - Keep responses under 200 words\n",
        "    - Use best practices and modern Python syntax\n",
        "    \"\"\",\n",
        "    model = model\n",
        ")"
      ]
    },
    {
      "cell_type": "code",
      "execution_count": null,
      "metadata": {
        "colab": {
          "base_uri": "https://localhost:8080/"
        },
        "id": "fhrt6YT20O8t",
        "outputId": "ac5138eb-d920-4b1f-8c76-db46e62fbc70"
      },
      "outputs": [
        {
          "name": "stdout",
          "output_type": "stream",
          "text": [
            "Asynchronous programming allows a program to initiate a task and then continue executing other tasks without waiting for the first task to complete. This contrasts with synchronous programming, where the program waits for each task to finish before moving to the next.\n",
            "\n",
            "Here's a breakdown:\n",
            "\n",
            "1.  **Non-Blocking:** Asynchronous operations don't block the main thread. Instead, they allow the program to remain responsive and handle other tasks.\n",
            "2.  **Concurrency:** Achieves concurrency by allowing multiple tasks to make progress seemingly simultaneously. This is especially beneficial for I/O-bound operations (e.g., network requests, file reads).\n",
            "3.  **`async` and `await`:** Python uses the `async` keyword to define coroutines (functions that can be paused and resumed) and the `await` keyword to pause execution until an asynchronous operation completes.\n",
            "\n",
            "```python\n",
            "import asyncio\n",
            "\n",
            "async def fetch_data():\n",
            "    await asyncio.sleep(1)  # Simulate network delay\n",
            "    return \"Data fetched!\"\n",
            "\n",
            "async def main():\n",
            "    task = asyncio.create_task(fetch_data())\n",
            "    print(\"Doing other things...\")\n",
            "    result = await task\n",
            "    print(result)\n",
            "\n",
            "asyncio.run(main())\n",
            "```\n",
            "\n",
            "In this example, `fetch_data` is an asynchronous function.  `asyncio.create_task` starts `fetch_data` in the background, and `await task` waits for it to finish before printing the result. The \"Doing other things...\" message demonstrates that the program doesn't block while waiting for the data.\n",
            "\n"
          ]
        }
      ],
      "source": [
        "async def main():\n",
        "  result:RunResult =await Runner.run(agent_detailed,\"Tell me about Asynchronous Programming\")\n",
        "  print(result.final_output)\n",
        "\n",
        "asyncio.run(main())"
      ]
    },
    {
      "cell_type": "markdown",
      "metadata": {
        "id": "-5nGmSAC0cBa"
      },
      "source": [
        "## Simple Callable Instructions"
      ]
    },
    {
      "cell_type": "code",
      "execution_count": null,
      "metadata": {
        "id": "dIIrZ7Rw0oOD"
      },
      "outputs": [],
      "source": [
        "# making function that gives dynamic instructions when called\n",
        "def dynamic_instructions(ctx:RunContextWrapper[None],agent:Agent) -> str:\n",
        "  print(\"RECEIVED CONTEXT : \", ctx)\n",
        "  print(\"RECEIVED AGENT : \", agent)\n",
        "  return f\"You are a {agent.name}. Responed user queries shortly and concisely\""
      ]
    },
    {
      "cell_type": "code",
      "execution_count": null,
      "metadata": {
        "id": "bTLEjskz16XY"
      },
      "outputs": [],
      "source": [
        "agent_callable:Agent = Agent(\n",
        "    name = \"Dynamic Agent\",\n",
        "    instructions = dynamic_instructions,\n",
        "    model = model\n",
        ")"
      ]
    },
    {
      "cell_type": "code",
      "execution_count": null,
      "metadata": {
        "colab": {
          "base_uri": "https://localhost:8080/"
        },
        "id": "V7DHbdiM2B2I",
        "outputId": "e3b42876-8d50-433d-eb29-bb776ac81930"
      },
      "outputs": [
        {
          "name": "stdout",
          "output_type": "stream",
          "text": [
            "RECEIVED CONTEXT :  RunContextWrapper(context=None, usage=Usage(requests=0, input_tokens=0, input_tokens_details=InputTokensDetails(cached_tokens=0), output_tokens=0, output_tokens_details=OutputTokensDetails(reasoning_tokens=0), total_tokens=0))\n",
            "RECEIVED AGENT :  Agent(name='Dynamic Agent', instructions=<function dynamic_instructions at 0x7913c56d5a80>, prompt=None, handoff_description=None, handoffs=[], model=<agents.models.openai_chatcompletions.OpenAIChatCompletionsModel object at 0x7913b3cd0dd0>, model_settings=ModelSettings(temperature=None, top_p=None, frequency_penalty=None, presence_penalty=None, tool_choice=None, parallel_tool_calls=None, truncation=None, max_tokens=None, reasoning=None, metadata=None, store=None, include_usage=None, extra_query=None, extra_body=None, extra_headers=None, extra_args=None), tools=[], mcp_servers=[], mcp_config={}, input_guardrails=[], output_guardrails=[], output_type=None, hooks=None, tool_use_behavior='run_llm_again', reset_tool_choice=True)\n",
            "The meaning of life is subjective and varies for each individual. Some find it in relationships, experiences, contributions, or self-discovery. There is no universal answer.\n",
            "\n"
          ]
        }
      ],
      "source": [
        "async def main():\n",
        "  result:RunResult =await Runner.run(agent_callable, \"What is the meaning of life?\")\n",
        "  print(result.final_output)\n",
        "\n",
        "asyncio.run(main())"
      ]
    },
    {
      "cell_type": "markdown",
      "metadata": {
        "id": "5-ZKr0QX2VPv"
      },
      "source": [
        "## Context Aware Callable Instructions"
      ]
    },
    {
      "cell_type": "code",
      "execution_count": null,
      "metadata": {
        "id": "YL5xyXte5Orx"
      },
      "outputs": [],
      "source": [
        "!pip install -Uq pydantic"
      ]
    },
    {
      "cell_type": "code",
      "execution_count": null,
      "metadata": {
        "id": "cMwpG65v491Z"
      },
      "outputs": [],
      "source": [
        "## making simple context just for demo usage\n",
        "from pydantic import BaseModel\n",
        "\n",
        "class Message(BaseModel):\n",
        "  role:str\n",
        "  content:str\n",
        "\n",
        "class Messages(BaseModel):\n",
        "  messages:list[Message]\n"
      ]
    },
    {
      "cell_type": "code",
      "execution_count": null,
      "metadata": {
        "id": "hEAR5RpX6Ion"
      },
      "outputs": [],
      "source": [
        "def context_aware_instructions(ctx:RunContextWrapper[Messages],agent:Agent) -> str:\n",
        "  # print(\"RECEIVED CONTEXT : \", ctx)\n",
        "  # print(\"RECEIVED AGENT : \", agent)\n",
        "\n",
        "  message_count = len(ctx.context.messages)\n",
        "\n",
        "  if message_count == 0:\n",
        "      return \"You are a friendly assistant. Introduce yourself and ask how you can help.\"\n",
        "  elif message_count < 3:\n",
        "      return \"You are a helpful assistant. Be encouraging and detailed in your responses.\"\n",
        "  else:\n",
        "      return \"You are an experienced assistant. Be concise but thorough.\""
      ]
    },
    {
      "cell_type": "code",
      "execution_count": null,
      "metadata": {
        "id": "MSqwOapy6qvf"
      },
      "outputs": [],
      "source": [
        "agent_context_aware:Agent = Agent(\n",
        "    name = \"Context Aware Agent\",\n",
        "    instructions = context_aware_instructions,\n",
        "    model = model,\n",
        ")"
      ]
    },
    {
      "cell_type": "code",
      "execution_count": null,
      "metadata": {
        "colab": {
          "base_uri": "https://localhost:8080/"
        },
        "id": "knf7xY_47uzP",
        "outputId": "e8c6ea18-a318-4939-f6fe-2226ba5e820d"
      },
      "outputs": [
        {
          "name": "stdout",
          "output_type": "stream",
          "text": [
            "AGENT INSTRUCTIONS: You are a friendly assistant. Introduce yourself and ask how you can help.\n",
            "Hello! I'm a friendly AI assistant here to help you with information, creative content, and answering your questions. How can I assist you today?\n",
            "\n",
            "AGENT INSTRUCTIONS: You are a helpful assistant. Be encouraging and detailed in your responses.\n",
            "Asynchronous programming is a powerful technique that allows your program to start a potentially long-running task and continue executing other code without waiting for that task to complete. It's like ordering food at a restaurant – you place your order (start the task), and then you can chat with your friends, read a book, or do other things (continue executing code) while the kitchen prepares your meal (the task runs in the background). When your food is ready (the task is complete), the waiter brings it to you (you're notified of the completion), and you can finally eat (process the result of the task).\n",
            "\n",
            "Here's a breakdown of why and how it works:\n",
            "\n",
            "**Why Use Asynchronous Programming?**\n",
            "\n",
            "*   **Improved Responsiveness:** In user interfaces (like websites or applications), asynchronous programming prevents the UI from freezing up while waiting for a task to finish.  Imagine clicking a button that triggers a long database query. Without asynchronous programming, the UI would become unresponsive until the query returns.  With asynchronous programming, the UI remains responsive, and a loading indicator might be displayed while the query runs in the background.\n",
            "*   **Enhanced Performance:**  Asynchronous programming can significantly improve the performance of applications that handle a large number of concurrent operations, such as web servers or network applications.  Instead of waiting for each request to complete sequentially, the server can start processing multiple requests concurrently, making better use of system resources.\n",
            "*   **Resource Efficiency:** In many cases, asynchronous operations can be more efficient in terms of CPU and memory usage than traditional synchronous operations, especially when dealing with I/O-bound tasks (tasks that spend a lot of time waiting for input/output operations like reading from a file, making a network request, or querying a database).\n",
            "\n",
            "**Key Concepts**\n",
            "\n",
            "*   **Concurrency vs. Parallelism:** These terms are often used together, but they are distinct.\n",
            "    *   **Concurrency:** Deals with managing multiple tasks at the same time. The tasks may not be executing simultaneously, but the program can switch between them as needed. Think of a juggler who is juggling multiple balls. He is not holding them all at the same time, but he is still managing them all concurrently. Asynchronous programming enables concurrency.\n",
            "    *   **Parallelism:** Deals with executing multiple tasks simultaneously, typically on multiple processor cores. This requires hardware support and is a form of concurrency. Think of multiple jugglers juggling balls at the same time.\n",
            "*   **Event Loop:**  Many asynchronous programming models rely on an event loop. The event loop is a mechanism that waits for events (like the completion of a network request or a timer expiring) and then dispatches the appropriate handler to process the event.  JavaScript in web browsers and Node.js are prime examples of event-loop-based asynchronous programming.\n",
            "*   **Callbacks:** Callbacks are functions that are passed as arguments to asynchronous functions. The callback function is executed when the asynchronous operation completes.\n",
            "*   **Promises/Futures:** Promises (or Futures in some languages) are objects that represent the eventual result of an asynchronous operation.  They provide a more structured and manageable way to handle asynchronous results compared to callbacks. A promise can be in one of three states:\n",
            "    *   **Pending:** The operation is still in progress.\n",
            "    *   **Fulfilled (Resolved):** The operation completed successfully, and the promise holds the result.\n",
            "    *   **Rejected:** The operation failed, and the promise holds the error.\n",
            "*   **Async/Await:**  `async` and `await` are keywords (available in many modern languages like JavaScript, Python, and C#) that provide a more synchronous-looking way to write asynchronous code, making it easier to read and understand.  The `async` keyword is used to define an asynchronous function, and the `await` keyword is used to pause the execution of the function until a promise resolves.\n",
            "\n",
            "**How Asynchronous Programming Works (Example using Promises and Async/Await - JavaScript)**\n",
            "\n",
            "```javascript\n",
            "// Function that returns a Promise (simulating a network request)\n",
            "function fetchData() {\n",
            "  return new Promise((resolve, reject) => {\n",
            "    setTimeout(() => {  // Simulate a delay of 2 seconds\n",
            "      const data = { name: \"Example Data\", value: 42 };\n",
            "      resolve(data); // Resolve the promise with the data\n",
            "      // reject(\"Error fetching data\"); // Simulate an error\n",
            "    }, 2000);\n",
            "  });\n",
            "}\n",
            "\n",
            "// Async function using async/await\n",
            "async function processData() {\n",
            "  try {\n",
            "    console.log(\"Starting data fetch...\");\n",
            "    const data = await fetchData(); // Pause execution until fetchData resolves\n",
            "    console.log(\"Data received:\", data);\n",
            "    console.log(\"Processing data...\");\n",
            "    // Do something with the data\n",
            "  } catch (error) {\n",
            "    console.error(\"Error:\", error);\n",
            "  } finally {\n",
            "    console.log(\"Operation complete.\");\n",
            "  }\n",
            "}\n",
            "\n",
            "// Call the async function\n",
            "processData();\n",
            "\n",
            "console.log(\"This will execute before the data is fetched!\"); // Important: This line runs immediately\n",
            "```\n",
            "\n",
            "**Explanation:**\n",
            "\n",
            "1.  **`fetchData()` Function:** This function simulates an asynchronous operation (like fetching data from a server). It returns a `Promise`.\n",
            "2.  **`Promise`:** The `Promise` object represents the eventual result of the `fetchData()` operation. It starts in a \"pending\" state.\n",
            "3.  **`setTimeout()`:**  This function simulates a delay of 2 seconds, mimicking the time it might take to fetch data from a network.\n",
            "4.  **`resolve(data)`:** After 2 seconds, the `resolve()` function is called, which means the `Promise` has been successfully fulfilled with the `data`.  If an error occurred, `reject(\"Error message\")` would be called instead.\n",
            "5.  **`processData()` Function:** This is an `async` function, which means you can use the `await` keyword inside it.\n",
            "6.  **`await fetchData()`:** This line is crucial. The `await` keyword pauses the execution of the `processData()` function until the `fetchData()` Promise resolves (either successfully or with an error).\n",
            "7.  **Error Handling (`try...catch`):**  The `try...catch` block allows you to handle potential errors that might occur during the asynchronous operation. If `fetchData()` rejects the promise (calls `reject()`), the `catch` block will be executed.\n",
            "8.  **`finally` block:** This block always executes, regardless of whether the promise resolved or rejected. It's useful for cleanup operations.\n",
            "9.  **Non-Blocking Behavior:** The important thing is that the line `console.log(\"This will execute before the data is fetched!\")` will run *immediately* after `processData()` is called. This is because `processData()` is an asynchronous function, and the `await` keyword only pauses the execution *inside* that function. The rest of the program continues to run without waiting for the data to be fetched.\n",
            "\n",
            "**Common Use Cases**\n",
            "\n",
            "*   **Web Development:**  Fetching data from APIs, handling user input, animations, and other UI updates.\n",
            "*   **Mobile App Development:**  Downloading files, making network requests, and performing background tasks.\n",
            "*   **Backend Development:**  Handling database queries, processing incoming requests, and managing background jobs.\n",
            "*   **Game Development:**  Loading assets, handling network communication, and performing AI calculations.\n",
            "*   **Data Science:**  Processing large datasets, running machine learning algorithms, and visualizing data.\n",
            "\n",
            "**Languages and Libraries**\n",
            "\n",
            "Asynchronous programming is supported in many popular programming languages:\n",
            "\n",
            "*   **JavaScript:** Promises, `async`/`await`, the `fetch` API, and libraries like Axios.\n",
            "*   **Python:** `asyncio` library, `async`/`await` syntax.\n",
            "*   **Java:** `java.util.concurrent` package, CompletableFuture, Reactive Streams.\n",
            "*   **C#:** `async`/`await` keywords, Task Parallel Library (TPL).\n",
            "*   **Go:** Goroutines and channels.\n",
            "*   **Kotlin:** Coroutines.\n",
            "*   **Swift:** Grand Central Dispatch (GCD), `async`/`await` (Swift 5.5+).\n",
            "\n",
            "**Advantages of Asynchronous Programming:**\n",
            "\n",
            "*   **Improved Responsiveness:** Makes applications more responsive and user-friendly.\n",
            "*   **Increased Performance:** Can significantly improve performance in I/O-bound and concurrent scenarios.\n",
            "*   **Better Resource Utilization:**  Allows for more efficient use of CPU and memory.\n",
            "*   **Simplified Code:**  `async`/`await` makes asynchronous code easier to read and write.\n",
            "\n",
            "**Disadvantages of Asynchronous Programming:**\n",
            "\n",
            "*   **Increased Complexity:**  Can be more complex to reason about and debug than synchronous code, especially when dealing with callbacks.\n",
            "*   **Error Handling:** Requires careful error handling to prevent unhandled exceptions from crashing the application.\n",
            "*   **Potential for Deadlocks:**  In concurrent systems, it's important to avoid deadlocks, where two or more tasks are blocked indefinitely waiting for each other.\n",
            "*   **Callback Hell:** Over-nesting of callbacks can lead to \"callback hell,\" making the code difficult to read and maintain (Promises and `async`/`await` help to mitigate this).\n",
            "\n",
            "**In summary:** Asynchronous programming is a valuable tool for building responsive, efficient, and scalable applications. While it introduces some complexity, the benefits it provides often outweigh the costs, especially in scenarios where responsiveness and performance are critical. Understanding the key concepts and patterns of asynchronous programming is essential for any modern software developer. I hope this helps! Let me know if you have any other questions.\n",
            "\n",
            "AGENT INSTRUCTIONS: You are an experienced assistant. Be concise but thorough.\n",
            "Hi there! How can I help you today? Is there anything you'd like to know, create, or discuss? I'm ready to assist you with a wide range of tasks. Let me know what's on your mind!\n",
            "\n"
          ]
        }
      ],
      "source": [
        "async def main():\n",
        "  ctx0 = Messages(messages=[])\n",
        "  result1:RunResult = await Runner.run(agent_context_aware, \"Hi\",context = ctx0)\n",
        "  print(\"AGENT INSTRUCTIONS:\", context_aware_instructions(RunContextWrapper(ctx0), agent_context_aware))\n",
        "  print(result1.final_output)\n",
        "\n",
        "  ctx2 = Messages(messages=[Message(role=\"user\", content=\"Hi\"),\n",
        "                            Message(role=\"assistant\", content=\"Hello!\")])\n",
        "  result2:RunResult = await Runner.run(agent_context_aware, \"Tell me about Asynchronous Programming\",context = ctx2)\n",
        "  print(\"AGENT INSTRUCTIONS:\", context_aware_instructions(RunContextWrapper(ctx2), agent_context_aware))\n",
        "  print(result2.final_output)\n",
        "\n",
        "  ctx4 = Messages(messages=[Message(role=\"user\", content=\"Hi\"),\n",
        "                            Message(role=\"assistant\", content=\"Hello!\"),\n",
        "                            Message(role=\"user\", content=\"How do I code a loop?\"),\n",
        "                            Message(role=\"assistant\", content=\"Here’s how...\")])\n",
        "  result3:RunResult = await Runner.run(agent_context_aware, \"Hi\",context = ctx2)\n",
        "  print(\"AGENT INSTRUCTIONS:\", context_aware_instructions(RunContextWrapper(ctx4), agent_context_aware))\n",
        "  print(result3.final_output)\n",
        "\n",
        "asyncio.run(main())"
      ]
    },
    {
      "cell_type": "markdown",
      "metadata": {
        "id": "ULYOijwyE3Cn"
      },
      "source": [
        "## Async Callable Instructions"
      ]
    },
    {
      "cell_type": "code",
      "execution_count": null,
      "metadata": {
        "id": "6zjv9TVMBs85"
      },
      "outputs": [],
      "source": [
        "from datetime import datetime"
      ]
    },
    {
      "cell_type": "code",
      "execution_count": null,
      "metadata": {
        "id": "QO_dtg2u__nt"
      },
      "outputs": [],
      "source": [
        "async def async_instructions(ctx:RunContextWrapper[None],agent:Agent):\n",
        "  await asyncio.sleep(0.1)\n",
        "  current_time = asyncio.get_event_loop().time()\n",
        "  parsed_time = datetime.fromtimestamp(current_time)\n",
        "\n",
        "  return f\"\"\"You are {agent.name}, an AI assistant with real-time capabilities.Current timestamp: {parsed_time}\n",
        "  Provide helpful and timely responses.\"\"\""
      ]
    },
    {
      "cell_type": "code",
      "execution_count": null,
      "metadata": {
        "id": "qMmz4oaDB9ZU"
      },
      "outputs": [],
      "source": [
        "agent_async:Agent = Agent(\n",
        "    name = \"Async Agent\",\n",
        "    instructions = async_instructions,\n",
        "    model = model,\n",
        ")"
      ]
    },
    {
      "cell_type": "code",
      "execution_count": null,
      "metadata": {
        "colab": {
          "base_uri": "https://localhost:8080/"
        },
        "id": "nvTQjNmCCJw0",
        "outputId": "1e499d52-a6f4-45fb-eda3-434f19644e4c"
      },
      "outputs": [
        {
          "name": "stdout",
          "output_type": "stream",
          "text": [
            "AGENT INSTRUCTIONS :  You are Async Agent, an AI assistant with real-time capabilities.Current timestamp: 1970-01-01 01:38:32.630480\n",
            "  Provide helpful and timely responses.\n",
            "Current time is 1970-01-01 01:38:35.492654\n",
            "\n"
          ]
        }
      ],
      "source": [
        "async def main():\n",
        "  result:RunResult =await Runner.run(agent_async, \"What time it is?\")\n",
        "  print(\"AGENT INSTRUCTIONS : \",await async_instructions(RunContextWrapper(None), agent_async))\n",
        "  print(result.final_output)\n",
        "\n",
        "asyncio.run(main())"
      ]
    },
    {
      "cell_type": "markdown",
      "metadata": {
        "id": "iNIQUK8ZE6wE"
      },
      "source": [
        "## Stateful Callable Instructions"
      ]
    },
    {
      "cell_type": "code",
      "execution_count": null,
      "metadata": {
        "id": "4YgYZc8mFDfR"
      },
      "outputs": [],
      "source": [
        "class instruction_generator:\n",
        "  def __init__(self):\n",
        "    self.interaction_count = 0\n",
        "\n",
        "  def __call__(self,ctx:RunContextWrapper[None],agent:Agent):\n",
        "    self.interaction_count+=1\n",
        "\n",
        "    if self.interaction_count == 1:\n",
        "      return \"You are a learning assistant. This is our first interaction - be welcoming!\"\n",
        "    elif self.interaction_count <= 3:\n",
        "      return f\"You are a learning assistant. This is interaction #{self.interaction_count} - build on our conversation.\"\n",
        "    else:\n",
        "      return f\"You are an experienced learning assistant. We've had {self.interaction_count} interactions - be efficient.\""
      ]
    },
    {
      "cell_type": "code",
      "execution_count": null,
      "metadata": {
        "id": "vymgMFnFMnEh"
      },
      "outputs": [],
      "source": [
        "instruction_gen = instruction_generator()\n",
        "\n",
        "agent_stateful:Agent = Agent(\n",
        "    name = \"Stateful Agent\",\n",
        "    instructions = instruction_gen,\n",
        "    model = model,\n",
        ")"
      ]
    },
    {
      "cell_type": "code",
      "execution_count": null,
      "metadata": {
        "colab": {
          "base_uri": "https://localhost:8080/"
        },
        "id": "6ww-1k0yMyhz",
        "outputId": "8f721298-184e-4d0c-dedb-e7740eee7a73"
      },
      "outputs": [
        {
          "name": "stdout",
          "output_type": "stream",
          "text": [
            "[Interaction 1]: Python is a high-level, general-purpose programming language. It emphasizes code readability and use...\n",
            "[Interaction 2]: Python is a high-level, general-purpose programming language. Key features include:\n",
            "\n",
            "*   **Readabili...\n",
            "[Interaction 3]: Python is a high-level, general-purpose programming language. Key features include:\n",
            "\n",
            "*   **Readabili...\n",
            "[Interaction 4]: Python is a high-level, general-purpose programming language known for its readability and versatili...\n"
          ]
        }
      ],
      "source": [
        "async def main():\n",
        "    for i in range(4):\n",
        "        result = await Runner.run(\n",
        "            agent_stateful, f\"Question {i+1}: Tell me about Python\"\n",
        "        )\n",
        "        print(f\"[Interaction {i+1}]:\", result.final_output[:100] + \"...\")\n",
        "\n",
        "asyncio.run(main())"
      ]
    }
  ],
  "metadata": {
    "colab": {
      "provenance": []
    },
    "kernelspec": {
      "display_name": "Python 3",
      "name": "python3"
    },
    "language_info": {
      "name": "python"
    }
  },
  "nbformat": 4,
  "nbformat_minor": 0
}
